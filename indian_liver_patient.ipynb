{
 "cells": [
  {
   "cell_type": "markdown",
   "metadata": {},
   "source": [
    "# Indian Liver Patient Records \n",
    "### Patient records collected from North East of Andhra Pradesh, India"
   ]
  },
  {
   "cell_type": "markdown",
   "metadata": {},
   "source": [
    "## Predicting liver disease using logistic regression\n",
    "\n",
    "#### Name: Roshan Wahane\n",
    "#### Date: 22/05/2019"
   ]
  },
  {
   "cell_type": "markdown",
   "metadata": {},
   "source": [
    "### Context\n",
    "\n",
    "Patients with Liver disease have been continuously increasing because of excessive consumption of alcohol, inhale of harmful gases, intake of contaminated food, pickles and drugs. This dataset was used to evaluate prediction algorithms in an effort to reduce burden on doctors.\n",
    "\n",
    "### Content\n",
    "This data set contains 416 liver patient records and 167 non liver patient records collected from North East of Andhra Pradesh, India. The \"Dataset\" column is a class label used to divide groups into liver patient (liver disease) or not (no disease). This data set contains 441 male patient records and 142 female patient records.\n",
    "\n",
    "Any patient whose age exceeded 89 is listed as being of age \"90\".\n",
    "\n",
    "### Columns:\n",
    "\n",
    "- Age of the patient\n",
    "- Gender of the patient\n",
    "- Total Bilirubin\n",
    "- Direct Bilirubin\n",
    "- Alkaline Phosphotase\n",
    "- Alamine Aminotransferase\n",
    "- Aspartate Aminotransferase\n",
    "- Total Protiens\n",
    "- Albumin\n",
    "- Albumin and Globulin Ratio\n",
    "- Dataset: field used to split the data into two sets (patient with liver disease, or no disease)\n",
    "\n",
    "#### Acknowledgements\n",
    "This dataset was downloaded from the UCI ML Repository:\n",
    "\n",
    "Lichman, M. (2013). UCI Machine Learning Repository [http://archive.ics.uci.edu/ml]. Irvine, CA: University of California, School of Information and Computer Science.\n",
    "\n",
    "#### Inspiration\n",
    "Use these patient records to determine which patients have liver disease and which ones do not."
   ]
  },
  {
   "cell_type": "code",
   "execution_count": null,
   "metadata": {},
   "outputs": [],
   "source": []
  },
  {
   "cell_type": "markdown",
   "metadata": {},
   "source": [
    "Load required libraries"
   ]
  },
  {
   "cell_type": "code",
   "execution_count": 1,
   "metadata": {},
   "outputs": [
    {
     "name": "stderr",
     "output_type": "stream",
     "text": [
      "\n",
      "Attaching package: ‘dplyr’\n",
      "\n",
      "The following objects are masked from ‘package:stats’:\n",
      "\n",
      "    filter, lag\n",
      "\n",
      "The following objects are masked from ‘package:base’:\n",
      "\n",
      "    intersect, setdiff, setequal, union\n",
      "\n",
      "Loading required package: lattice\n"
     ]
    }
   ],
   "source": [
    "library(dplyr)\n",
    "library(ggplot2)\n",
    "library(e1071)\n",
    "library(caret)"
   ]
  },
  {
   "cell_type": "markdown",
   "metadata": {},
   "source": [
    "### Exploratory Data Analysis"
   ]
  },
  {
   "cell_type": "markdown",
   "metadata": {},
   "source": [
    "We will first perform some basic EDA on the dataset to understand further about the features of the data, the datatype, to check if there is any missing data, discrepancy in data, perform data cleanup and preprocessing. We will also check the correlation between the variables which will further give us an idea about the data behavior."
   ]
  },
  {
   "cell_type": "markdown",
   "metadata": {},
   "source": [
    "We will first begin with loading the dataset."
   ]
  },
  {
   "cell_type": "code",
   "execution_count": 2,
   "metadata": {},
   "outputs": [],
   "source": [
    "il <- read.csv(\"indian_liver_patient.csv\", header=TRUE, sep=\",\")"
   ]
  },
  {
   "cell_type": "code",
   "execution_count": 3,
   "metadata": {
    "scrolled": true
   },
   "outputs": [
    {
     "data": {
      "text/html": [
       "<table>\n",
       "<thead><tr><th scope=col>Age</th><th scope=col>Gender</th><th scope=col>Total_Bilirubin</th><th scope=col>Direct_Bilirubin</th><th scope=col>Alkaline_Phosphotase</th><th scope=col>Alamine_Aminotransferase</th><th scope=col>Aspartate_Aminotransferase</th><th scope=col>Total_Protiens</th><th scope=col>Albumin</th><th scope=col>Albumin_and_Globulin_Ratio</th><th scope=col>Dataset</th></tr></thead>\n",
       "<tbody>\n",
       "\t<tr><td>65    </td><td>Female</td><td> 0.7  </td><td>0.1   </td><td>187   </td><td>16    </td><td> 18   </td><td>6.8   </td><td>3.3   </td><td>0.90  </td><td>1     </td></tr>\n",
       "\t<tr><td>62    </td><td>Male  </td><td>10.9  </td><td>5.5   </td><td>699   </td><td>64    </td><td>100   </td><td>7.5   </td><td>3.2   </td><td>0.74  </td><td>1     </td></tr>\n",
       "\t<tr><td>62    </td><td>Male  </td><td> 7.3  </td><td>4.1   </td><td>490   </td><td>60    </td><td> 68   </td><td>7.0   </td><td>3.3   </td><td>0.89  </td><td>1     </td></tr>\n",
       "\t<tr><td>58    </td><td>Male  </td><td> 1.0  </td><td>0.4   </td><td>182   </td><td>14    </td><td> 20   </td><td>6.8   </td><td>3.4   </td><td>1.00  </td><td>1     </td></tr>\n",
       "\t<tr><td>72    </td><td>Male  </td><td> 3.9  </td><td>2.0   </td><td>195   </td><td>27    </td><td> 59   </td><td>7.3   </td><td>2.4   </td><td>0.40  </td><td>1     </td></tr>\n",
       "\t<tr><td>46    </td><td>Male  </td><td> 1.8  </td><td>0.7   </td><td>208   </td><td>19    </td><td> 14   </td><td>7.6   </td><td>4.4   </td><td>1.30  </td><td>1     </td></tr>\n",
       "</tbody>\n",
       "</table>\n"
      ],
      "text/latex": [
       "\\begin{tabular}{r|lllllllllll}\n",
       " Age & Gender & Total\\_Bilirubin & Direct\\_Bilirubin & Alkaline\\_Phosphotase & Alamine\\_Aminotransferase & Aspartate\\_Aminotransferase & Total\\_Protiens & Albumin & Albumin\\_and\\_Globulin\\_Ratio & Dataset\\\\\n",
       "\\hline\n",
       "\t 65     & Female &  0.7   & 0.1    & 187    & 16     &  18    & 6.8    & 3.3    & 0.90   & 1     \\\\\n",
       "\t 62     & Male   & 10.9   & 5.5    & 699    & 64     & 100    & 7.5    & 3.2    & 0.74   & 1     \\\\\n",
       "\t 62     & Male   &  7.3   & 4.1    & 490    & 60     &  68    & 7.0    & 3.3    & 0.89   & 1     \\\\\n",
       "\t 58     & Male   &  1.0   & 0.4    & 182    & 14     &  20    & 6.8    & 3.4    & 1.00   & 1     \\\\\n",
       "\t 72     & Male   &  3.9   & 2.0    & 195    & 27     &  59    & 7.3    & 2.4    & 0.40   & 1     \\\\\n",
       "\t 46     & Male   &  1.8   & 0.7    & 208    & 19     &  14    & 7.6    & 4.4    & 1.30   & 1     \\\\\n",
       "\\end{tabular}\n"
      ],
      "text/markdown": [
       "\n",
       "Age | Gender | Total_Bilirubin | Direct_Bilirubin | Alkaline_Phosphotase | Alamine_Aminotransferase | Aspartate_Aminotransferase | Total_Protiens | Albumin | Albumin_and_Globulin_Ratio | Dataset | \n",
       "|---|---|---|---|---|---|\n",
       "| 65     | Female |  0.7   | 0.1    | 187    | 16     |  18    | 6.8    | 3.3    | 0.90   | 1      | \n",
       "| 62     | Male   | 10.9   | 5.5    | 699    | 64     | 100    | 7.5    | 3.2    | 0.74   | 1      | \n",
       "| 62     | Male   |  7.3   | 4.1    | 490    | 60     |  68    | 7.0    | 3.3    | 0.89   | 1      | \n",
       "| 58     | Male   |  1.0   | 0.4    | 182    | 14     |  20    | 6.8    | 3.4    | 1.00   | 1      | \n",
       "| 72     | Male   |  3.9   | 2.0    | 195    | 27     |  59    | 7.3    | 2.4    | 0.40   | 1      | \n",
       "| 46     | Male   |  1.8   | 0.7    | 208    | 19     |  14    | 7.6    | 4.4    | 1.30   | 1      | \n",
       "\n",
       "\n"
      ],
      "text/plain": [
       "  Age Gender Total_Bilirubin Direct_Bilirubin Alkaline_Phosphotase\n",
       "1 65  Female  0.7            0.1              187                 \n",
       "2 62  Male   10.9            5.5              699                 \n",
       "3 62  Male    7.3            4.1              490                 \n",
       "4 58  Male    1.0            0.4              182                 \n",
       "5 72  Male    3.9            2.0              195                 \n",
       "6 46  Male    1.8            0.7              208                 \n",
       "  Alamine_Aminotransferase Aspartate_Aminotransferase Total_Protiens Albumin\n",
       "1 16                        18                        6.8            3.3    \n",
       "2 64                       100                        7.5            3.2    \n",
       "3 60                        68                        7.0            3.3    \n",
       "4 14                        20                        6.8            3.4    \n",
       "5 27                        59                        7.3            2.4    \n",
       "6 19                        14                        7.6            4.4    \n",
       "  Albumin_and_Globulin_Ratio Dataset\n",
       "1 0.90                       1      \n",
       "2 0.74                       1      \n",
       "3 0.89                       1      \n",
       "4 1.00                       1      \n",
       "5 0.40                       1      \n",
       "6 1.30                       1      "
      ]
     },
     "metadata": {},
     "output_type": "display_data"
    }
   ],
   "source": [
    "head(il)"
   ]
  },
  {
   "cell_type": "markdown",
   "metadata": {},
   "source": [
    "Print the column names"
   ]
  },
  {
   "cell_type": "code",
   "execution_count": 4,
   "metadata": {},
   "outputs": [
    {
     "data": {
      "text/html": [
       "<ol class=list-inline>\n",
       "\t<li>'Age'</li>\n",
       "\t<li>'Gender'</li>\n",
       "\t<li>'Total_Bilirubin'</li>\n",
       "\t<li>'Direct_Bilirubin'</li>\n",
       "\t<li>'Alkaline_Phosphotase'</li>\n",
       "\t<li>'Alamine_Aminotransferase'</li>\n",
       "\t<li>'Aspartate_Aminotransferase'</li>\n",
       "\t<li>'Total_Protiens'</li>\n",
       "\t<li>'Albumin'</li>\n",
       "\t<li>'Albumin_and_Globulin_Ratio'</li>\n",
       "\t<li>'Dataset'</li>\n",
       "</ol>\n"
      ],
      "text/latex": [
       "\\begin{enumerate*}\n",
       "\\item 'Age'\n",
       "\\item 'Gender'\n",
       "\\item 'Total\\_Bilirubin'\n",
       "\\item 'Direct\\_Bilirubin'\n",
       "\\item 'Alkaline\\_Phosphotase'\n",
       "\\item 'Alamine\\_Aminotransferase'\n",
       "\\item 'Aspartate\\_Aminotransferase'\n",
       "\\item 'Total\\_Protiens'\n",
       "\\item 'Albumin'\n",
       "\\item 'Albumin\\_and\\_Globulin\\_Ratio'\n",
       "\\item 'Dataset'\n",
       "\\end{enumerate*}\n"
      ],
      "text/markdown": [
       "1. 'Age'\n",
       "2. 'Gender'\n",
       "3. 'Total_Bilirubin'\n",
       "4. 'Direct_Bilirubin'\n",
       "5. 'Alkaline_Phosphotase'\n",
       "6. 'Alamine_Aminotransferase'\n",
       "7. 'Aspartate_Aminotransferase'\n",
       "8. 'Total_Protiens'\n",
       "9. 'Albumin'\n",
       "10. 'Albumin_and_Globulin_Ratio'\n",
       "11. 'Dataset'\n",
       "\n",
       "\n"
      ],
      "text/plain": [
       " [1] \"Age\"                        \"Gender\"                    \n",
       " [3] \"Total_Bilirubin\"            \"Direct_Bilirubin\"          \n",
       " [5] \"Alkaline_Phosphotase\"       \"Alamine_Aminotransferase\"  \n",
       " [7] \"Aspartate_Aminotransferase\" \"Total_Protiens\"            \n",
       " [9] \"Albumin\"                    \"Albumin_and_Globulin_Ratio\"\n",
       "[11] \"Dataset\"                   "
      ]
     },
     "metadata": {},
     "output_type": "display_data"
    }
   ],
   "source": [
    "names(il)"
   ]
  },
  {
   "cell_type": "markdown",
   "metadata": {},
   "source": [
    "Check the structure of the dataset."
   ]
  },
  {
   "cell_type": "code",
   "execution_count": 5,
   "metadata": {},
   "outputs": [
    {
     "name": "stdout",
     "output_type": "stream",
     "text": [
      "'data.frame':\t583 obs. of  11 variables:\n",
      " $ Age                       : int  65 62 62 58 72 46 26 29 17 55 ...\n",
      " $ Gender                    : Factor w/ 2 levels \"Female\",\"Male\": 1 2 2 2 2 2 1 1 2 2 ...\n",
      " $ Total_Bilirubin           : num  0.7 10.9 7.3 1 3.9 1.8 0.9 0.9 0.9 0.7 ...\n",
      " $ Direct_Bilirubin          : num  0.1 5.5 4.1 0.4 2 0.7 0.2 0.3 0.3 0.2 ...\n",
      " $ Alkaline_Phosphotase      : int  187 699 490 182 195 208 154 202 202 290 ...\n",
      " $ Alamine_Aminotransferase  : int  16 64 60 14 27 19 16 14 22 53 ...\n",
      " $ Aspartate_Aminotransferase: int  18 100 68 20 59 14 12 11 19 58 ...\n",
      " $ Total_Protiens            : num  6.8 7.5 7 6.8 7.3 7.6 7 6.7 7.4 6.8 ...\n",
      " $ Albumin                   : num  3.3 3.2 3.3 3.4 2.4 4.4 3.5 3.6 4.1 3.4 ...\n",
      " $ Albumin_and_Globulin_Ratio: num  0.9 0.74 0.89 1 0.4 1.3 1 1.1 1.2 1 ...\n",
      " $ Dataset                   : int  1 1 1 1 1 1 1 1 2 1 ...\n"
     ]
    }
   ],
   "source": [
    "str(il)"
   ]
  },
  {
   "cell_type": "markdown",
   "metadata": {},
   "source": [
    "Get the summary on the dataset. This will provide us with further analysis."
   ]
  },
  {
   "cell_type": "code",
   "execution_count": 6,
   "metadata": {
    "scrolled": true
   },
   "outputs": [
    {
     "data": {
      "text/plain": [
       "      Age           Gender    Total_Bilirubin  Direct_Bilirubin\n",
       " Min.   : 4.00   Female:142   Min.   : 0.400   Min.   : 0.100  \n",
       " 1st Qu.:33.00   Male  :441   1st Qu.: 0.800   1st Qu.: 0.200  \n",
       " Median :45.00                Median : 1.000   Median : 0.300  \n",
       " Mean   :44.75                Mean   : 3.299   Mean   : 1.486  \n",
       " 3rd Qu.:58.00                3rd Qu.: 2.600   3rd Qu.: 1.300  \n",
       " Max.   :90.00                Max.   :75.000   Max.   :19.700  \n",
       "                                                               \n",
       " Alkaline_Phosphotase Alamine_Aminotransferase Aspartate_Aminotransferase\n",
       " Min.   :  63.0       Min.   :  10.00          Min.   :  10.0            \n",
       " 1st Qu.: 175.5       1st Qu.:  23.00          1st Qu.:  25.0            \n",
       " Median : 208.0       Median :  35.00          Median :  42.0            \n",
       " Mean   : 290.6       Mean   :  80.71          Mean   : 109.9            \n",
       " 3rd Qu.: 298.0       3rd Qu.:  60.50          3rd Qu.:  87.0            \n",
       " Max.   :2110.0       Max.   :2000.00          Max.   :4929.0            \n",
       "                                                                         \n",
       " Total_Protiens     Albumin      Albumin_and_Globulin_Ratio    Dataset     \n",
       " Min.   :2.700   Min.   :0.900   Min.   :0.3000             Min.   :1.000  \n",
       " 1st Qu.:5.800   1st Qu.:2.600   1st Qu.:0.7000             1st Qu.:1.000  \n",
       " Median :6.600   Median :3.100   Median :0.9300             Median :1.000  \n",
       " Mean   :6.483   Mean   :3.142   Mean   :0.9471             Mean   :1.286  \n",
       " 3rd Qu.:7.200   3rd Qu.:3.800   3rd Qu.:1.1000             3rd Qu.:2.000  \n",
       " Max.   :9.600   Max.   :5.500   Max.   :2.8000             Max.   :2.000  \n",
       "                                 NA's   :4                                 "
      ]
     },
     "metadata": {},
     "output_type": "display_data"
    }
   ],
   "source": [
    "summary(il)"
   ]
  },
  {
   "cell_type": "markdown",
   "metadata": {},
   "source": [
    "Check for columns with missing values"
   ]
  },
  {
   "cell_type": "code",
   "execution_count": 7,
   "metadata": {
    "scrolled": true
   },
   "outputs": [
    {
     "data": {
      "text/html": [
       "<dl class=dl-horizontal>\n",
       "\t<dt>Age</dt>\n",
       "\t\t<dd>0</dd>\n",
       "\t<dt>Gender</dt>\n",
       "\t\t<dd>0</dd>\n",
       "\t<dt>Total_Bilirubin</dt>\n",
       "\t\t<dd>0</dd>\n",
       "\t<dt>Direct_Bilirubin</dt>\n",
       "\t\t<dd>0</dd>\n",
       "\t<dt>Alkaline_Phosphotase</dt>\n",
       "\t\t<dd>0</dd>\n",
       "\t<dt>Alamine_Aminotransferase</dt>\n",
       "\t\t<dd>0</dd>\n",
       "\t<dt>Aspartate_Aminotransferase</dt>\n",
       "\t\t<dd>0</dd>\n",
       "\t<dt>Total_Protiens</dt>\n",
       "\t\t<dd>0</dd>\n",
       "\t<dt>Albumin</dt>\n",
       "\t\t<dd>0</dd>\n",
       "\t<dt>Albumin_and_Globulin_Ratio</dt>\n",
       "\t\t<dd>4</dd>\n",
       "\t<dt>Dataset</dt>\n",
       "\t\t<dd>0</dd>\n",
       "</dl>\n"
      ],
      "text/latex": [
       "\\begin{description*}\n",
       "\\item[Age] 0\n",
       "\\item[Gender] 0\n",
       "\\item[Total\\textbackslash{}\\_Bilirubin] 0\n",
       "\\item[Direct\\textbackslash{}\\_Bilirubin] 0\n",
       "\\item[Alkaline\\textbackslash{}\\_Phosphotase] 0\n",
       "\\item[Alamine\\textbackslash{}\\_Aminotransferase] 0\n",
       "\\item[Aspartate\\textbackslash{}\\_Aminotransferase] 0\n",
       "\\item[Total\\textbackslash{}\\_Protiens] 0\n",
       "\\item[Albumin] 0\n",
       "\\item[Albumin\\textbackslash{}\\_and\\textbackslash{}\\_Globulin\\textbackslash{}\\_Ratio] 4\n",
       "\\item[Dataset] 0\n",
       "\\end{description*}\n"
      ],
      "text/markdown": [
       "Age\n",
       ":   0Gender\n",
       ":   0Total_Bilirubin\n",
       ":   0Direct_Bilirubin\n",
       ":   0Alkaline_Phosphotase\n",
       ":   0Alamine_Aminotransferase\n",
       ":   0Aspartate_Aminotransferase\n",
       ":   0Total_Protiens\n",
       ":   0Albumin\n",
       ":   0Albumin_and_Globulin_Ratio\n",
       ":   4Dataset\n",
       ":   0\n",
       "\n"
      ],
      "text/plain": [
       "                       Age                     Gender \n",
       "                         0                          0 \n",
       "           Total_Bilirubin           Direct_Bilirubin \n",
       "                         0                          0 \n",
       "      Alkaline_Phosphotase   Alamine_Aminotransferase \n",
       "                         0                          0 \n",
       "Aspartate_Aminotransferase             Total_Protiens \n",
       "                         0                          0 \n",
       "                   Albumin Albumin_and_Globulin_Ratio \n",
       "                         0                          4 \n",
       "                   Dataset \n",
       "                         0 "
      ]
     },
     "metadata": {},
     "output_type": "display_data"
    }
   ],
   "source": [
    "colSums(sapply(il, is.na))"
   ]
  },
  {
   "cell_type": "markdown",
   "metadata": {},
   "source": [
    "- Since logistic regression is a type of classification model which helps with predicting a single value to a question (True or False) for example in the given case if the patient has liver disease or not then it will be most helpful to have binary values in the dataset. But as we can see from the summary of the Indian Patient liver dataset that Dataset column has values 1 and 2 for liver disease or no liver disease then these values will first need to be converted in to binary values. So having binary values will gives the probability from 0 to 1 that the patient has liver disease.\n",
    "\n",
    "- As per the description of our dataset, it says that value 1 refers to the patients having the liver disease and value 2 refers to patients not having the liver disease. So we can convert value 2 to 0. So now 0 will represent patients without liver disease and value 1 are the patients with liver disease.\n",
    "\n",
    "- We can also see that the datatype of the Dataset column is int. So we can change this to a factor datatype.\n",
    "\n",
    "- We can also change the name of the Dataset column to something meaningful to represent the data in it.\n",
    "\n",
    "- In the above summary we can see that there are 4 NA values in the \"Albumin_and_Globulin_Ratio\" column. So, we can remove the NA's from that column."
   ]
  },
  {
   "cell_type": "markdown",
   "metadata": {},
   "source": [
    "Change the column name \"Dataset\" to \"Liver_Disease\""
   ]
  },
  {
   "cell_type": "code",
   "execution_count": 8,
   "metadata": {},
   "outputs": [],
   "source": [
    "colnames(il)[colnames(il)=='Dataset'] = 'Liver_Disease'"
   ]
  },
  {
   "cell_type": "code",
   "execution_count": 9,
   "metadata": {},
   "outputs": [
    {
     "data": {
      "text/html": [
       "<ol class=list-inline>\n",
       "\t<li>'Age'</li>\n",
       "\t<li>'Gender'</li>\n",
       "\t<li>'Total_Bilirubin'</li>\n",
       "\t<li>'Direct_Bilirubin'</li>\n",
       "\t<li>'Alkaline_Phosphotase'</li>\n",
       "\t<li>'Alamine_Aminotransferase'</li>\n",
       "\t<li>'Aspartate_Aminotransferase'</li>\n",
       "\t<li>'Total_Protiens'</li>\n",
       "\t<li>'Albumin'</li>\n",
       "\t<li>'Albumin_and_Globulin_Ratio'</li>\n",
       "\t<li>'Liver_Disease'</li>\n",
       "</ol>\n"
      ],
      "text/latex": [
       "\\begin{enumerate*}\n",
       "\\item 'Age'\n",
       "\\item 'Gender'\n",
       "\\item 'Total\\_Bilirubin'\n",
       "\\item 'Direct\\_Bilirubin'\n",
       "\\item 'Alkaline\\_Phosphotase'\n",
       "\\item 'Alamine\\_Aminotransferase'\n",
       "\\item 'Aspartate\\_Aminotransferase'\n",
       "\\item 'Total\\_Protiens'\n",
       "\\item 'Albumin'\n",
       "\\item 'Albumin\\_and\\_Globulin\\_Ratio'\n",
       "\\item 'Liver\\_Disease'\n",
       "\\end{enumerate*}\n"
      ],
      "text/markdown": [
       "1. 'Age'\n",
       "2. 'Gender'\n",
       "3. 'Total_Bilirubin'\n",
       "4. 'Direct_Bilirubin'\n",
       "5. 'Alkaline_Phosphotase'\n",
       "6. 'Alamine_Aminotransferase'\n",
       "7. 'Aspartate_Aminotransferase'\n",
       "8. 'Total_Protiens'\n",
       "9. 'Albumin'\n",
       "10. 'Albumin_and_Globulin_Ratio'\n",
       "11. 'Liver_Disease'\n",
       "\n",
       "\n"
      ],
      "text/plain": [
       " [1] \"Age\"                        \"Gender\"                    \n",
       " [3] \"Total_Bilirubin\"            \"Direct_Bilirubin\"          \n",
       " [5] \"Alkaline_Phosphotase\"       \"Alamine_Aminotransferase\"  \n",
       " [7] \"Aspartate_Aminotransferase\" \"Total_Protiens\"            \n",
       " [9] \"Albumin\"                    \"Albumin_and_Globulin_Ratio\"\n",
       "[11] \"Liver_Disease\"             "
      ]
     },
     "metadata": {},
     "output_type": "display_data"
    }
   ],
   "source": [
    "names(il)"
   ]
  },
  {
   "cell_type": "markdown",
   "metadata": {},
   "source": [
    "Change the response variable \"Liver_Disease\" values to 0 and 1 as we will be converting this into a factor variable to represent its categorical nature"
   ]
  },
  {
   "cell_type": "code",
   "execution_count": 10,
   "metadata": {},
   "outputs": [],
   "source": [
    "il$Liver_Disease[il$Liver_Disease == 2] <- 0"
   ]
  },
  {
   "cell_type": "code",
   "execution_count": 11,
   "metadata": {},
   "outputs": [
    {
     "data": {
      "text/html": [
       "<table>\n",
       "<thead><tr><th scope=col>Age</th><th scope=col>Gender</th><th scope=col>Total_Bilirubin</th><th scope=col>Direct_Bilirubin</th><th scope=col>Alkaline_Phosphotase</th><th scope=col>Alamine_Aminotransferase</th><th scope=col>Aspartate_Aminotransferase</th><th scope=col>Total_Protiens</th><th scope=col>Albumin</th><th scope=col>Albumin_and_Globulin_Ratio</th><th scope=col>Liver_Disease</th></tr></thead>\n",
       "<tbody>\n",
       "\t<tr><td>65    </td><td>Female</td><td> 0.7  </td><td>0.1   </td><td>187   </td><td>16    </td><td> 18   </td><td>6.8   </td><td>3.3   </td><td>0.90  </td><td>1     </td></tr>\n",
       "\t<tr><td>62    </td><td>Male  </td><td>10.9  </td><td>5.5   </td><td>699   </td><td>64    </td><td>100   </td><td>7.5   </td><td>3.2   </td><td>0.74  </td><td>1     </td></tr>\n",
       "\t<tr><td>62    </td><td>Male  </td><td> 7.3  </td><td>4.1   </td><td>490   </td><td>60    </td><td> 68   </td><td>7.0   </td><td>3.3   </td><td>0.89  </td><td>1     </td></tr>\n",
       "\t<tr><td>58    </td><td>Male  </td><td> 1.0  </td><td>0.4   </td><td>182   </td><td>14    </td><td> 20   </td><td>6.8   </td><td>3.4   </td><td>1.00  </td><td>1     </td></tr>\n",
       "\t<tr><td>72    </td><td>Male  </td><td> 3.9  </td><td>2.0   </td><td>195   </td><td>27    </td><td> 59   </td><td>7.3   </td><td>2.4   </td><td>0.40  </td><td>1     </td></tr>\n",
       "\t<tr><td>46    </td><td>Male  </td><td> 1.8  </td><td>0.7   </td><td>208   </td><td>19    </td><td> 14   </td><td>7.6   </td><td>4.4   </td><td>1.30  </td><td>1     </td></tr>\n",
       "\t<tr><td>26    </td><td>Female</td><td> 0.9  </td><td>0.2   </td><td>154   </td><td>16    </td><td> 12   </td><td>7.0   </td><td>3.5   </td><td>1.00  </td><td>1     </td></tr>\n",
       "\t<tr><td>29    </td><td>Female</td><td> 0.9  </td><td>0.3   </td><td>202   </td><td>14    </td><td> 11   </td><td>6.7   </td><td>3.6   </td><td>1.10  </td><td>1     </td></tr>\n",
       "\t<tr><td>17    </td><td>Male  </td><td> 0.9  </td><td>0.3   </td><td>202   </td><td>22    </td><td> 19   </td><td>7.4   </td><td>4.1   </td><td>1.20  </td><td>0     </td></tr>\n",
       "\t<tr><td>55    </td><td>Male  </td><td> 0.7  </td><td>0.2   </td><td>290   </td><td>53    </td><td> 58   </td><td>6.8   </td><td>3.4   </td><td>1.00  </td><td>1     </td></tr>\n",
       "</tbody>\n",
       "</table>\n"
      ],
      "text/latex": [
       "\\begin{tabular}{r|lllllllllll}\n",
       " Age & Gender & Total\\_Bilirubin & Direct\\_Bilirubin & Alkaline\\_Phosphotase & Alamine\\_Aminotransferase & Aspartate\\_Aminotransferase & Total\\_Protiens & Albumin & Albumin\\_and\\_Globulin\\_Ratio & Liver\\_Disease\\\\\n",
       "\\hline\n",
       "\t 65     & Female &  0.7   & 0.1    & 187    & 16     &  18    & 6.8    & 3.3    & 0.90   & 1     \\\\\n",
       "\t 62     & Male   & 10.9   & 5.5    & 699    & 64     & 100    & 7.5    & 3.2    & 0.74   & 1     \\\\\n",
       "\t 62     & Male   &  7.3   & 4.1    & 490    & 60     &  68    & 7.0    & 3.3    & 0.89   & 1     \\\\\n",
       "\t 58     & Male   &  1.0   & 0.4    & 182    & 14     &  20    & 6.8    & 3.4    & 1.00   & 1     \\\\\n",
       "\t 72     & Male   &  3.9   & 2.0    & 195    & 27     &  59    & 7.3    & 2.4    & 0.40   & 1     \\\\\n",
       "\t 46     & Male   &  1.8   & 0.7    & 208    & 19     &  14    & 7.6    & 4.4    & 1.30   & 1     \\\\\n",
       "\t 26     & Female &  0.9   & 0.2    & 154    & 16     &  12    & 7.0    & 3.5    & 1.00   & 1     \\\\\n",
       "\t 29     & Female &  0.9   & 0.3    & 202    & 14     &  11    & 6.7    & 3.6    & 1.10   & 1     \\\\\n",
       "\t 17     & Male   &  0.9   & 0.3    & 202    & 22     &  19    & 7.4    & 4.1    & 1.20   & 0     \\\\\n",
       "\t 55     & Male   &  0.7   & 0.2    & 290    & 53     &  58    & 6.8    & 3.4    & 1.00   & 1     \\\\\n",
       "\\end{tabular}\n"
      ],
      "text/markdown": [
       "\n",
       "Age | Gender | Total_Bilirubin | Direct_Bilirubin | Alkaline_Phosphotase | Alamine_Aminotransferase | Aspartate_Aminotransferase | Total_Protiens | Albumin | Albumin_and_Globulin_Ratio | Liver_Disease | \n",
       "|---|---|---|---|---|---|---|---|---|---|\n",
       "| 65     | Female |  0.7   | 0.1    | 187    | 16     |  18    | 6.8    | 3.3    | 0.90   | 1      | \n",
       "| 62     | Male   | 10.9   | 5.5    | 699    | 64     | 100    | 7.5    | 3.2    | 0.74   | 1      | \n",
       "| 62     | Male   |  7.3   | 4.1    | 490    | 60     |  68    | 7.0    | 3.3    | 0.89   | 1      | \n",
       "| 58     | Male   |  1.0   | 0.4    | 182    | 14     |  20    | 6.8    | 3.4    | 1.00   | 1      | \n",
       "| 72     | Male   |  3.9   | 2.0    | 195    | 27     |  59    | 7.3    | 2.4    | 0.40   | 1      | \n",
       "| 46     | Male   |  1.8   | 0.7    | 208    | 19     |  14    | 7.6    | 4.4    | 1.30   | 1      | \n",
       "| 26     | Female |  0.9   | 0.2    | 154    | 16     |  12    | 7.0    | 3.5    | 1.00   | 1      | \n",
       "| 29     | Female |  0.9   | 0.3    | 202    | 14     |  11    | 6.7    | 3.6    | 1.10   | 1      | \n",
       "| 17     | Male   |  0.9   | 0.3    | 202    | 22     |  19    | 7.4    | 4.1    | 1.20   | 0      | \n",
       "| 55     | Male   |  0.7   | 0.2    | 290    | 53     |  58    | 6.8    | 3.4    | 1.00   | 1      | \n",
       "\n",
       "\n"
      ],
      "text/plain": [
       "   Age Gender Total_Bilirubin Direct_Bilirubin Alkaline_Phosphotase\n",
       "1  65  Female  0.7            0.1              187                 \n",
       "2  62  Male   10.9            5.5              699                 \n",
       "3  62  Male    7.3            4.1              490                 \n",
       "4  58  Male    1.0            0.4              182                 \n",
       "5  72  Male    3.9            2.0              195                 \n",
       "6  46  Male    1.8            0.7              208                 \n",
       "7  26  Female  0.9            0.2              154                 \n",
       "8  29  Female  0.9            0.3              202                 \n",
       "9  17  Male    0.9            0.3              202                 \n",
       "10 55  Male    0.7            0.2              290                 \n",
       "   Alamine_Aminotransferase Aspartate_Aminotransferase Total_Protiens Albumin\n",
       "1  16                        18                        6.8            3.3    \n",
       "2  64                       100                        7.5            3.2    \n",
       "3  60                        68                        7.0            3.3    \n",
       "4  14                        20                        6.8            3.4    \n",
       "5  27                        59                        7.3            2.4    \n",
       "6  19                        14                        7.6            4.4    \n",
       "7  16                        12                        7.0            3.5    \n",
       "8  14                        11                        6.7            3.6    \n",
       "9  22                        19                        7.4            4.1    \n",
       "10 53                        58                        6.8            3.4    \n",
       "   Albumin_and_Globulin_Ratio Liver_Disease\n",
       "1  0.90                       1            \n",
       "2  0.74                       1            \n",
       "3  0.89                       1            \n",
       "4  1.00                       1            \n",
       "5  0.40                       1            \n",
       "6  1.30                       1            \n",
       "7  1.00                       1            \n",
       "8  1.10                       1            \n",
       "9  1.20                       0            \n",
       "10 1.00                       1            "
      ]
     },
     "metadata": {},
     "output_type": "display_data"
    }
   ],
   "source": [
    "head(il, n=10)"
   ]
  },
  {
   "cell_type": "code",
   "execution_count": 12,
   "metadata": {},
   "outputs": [
    {
     "data": {
      "text/plain": [
       "\n",
       "  0   1 \n",
       "167 416 "
      ]
     },
     "metadata": {},
     "output_type": "display_data"
    }
   ],
   "source": [
    "table(il$Liver_Disease)"
   ]
  },
  {
   "cell_type": "markdown",
   "metadata": {},
   "source": [
    "From above we can say that we have 167 patients without liver disease and 416 patients with liver disease"
   ]
  },
  {
   "cell_type": "markdown",
   "metadata": {},
   "source": [
    "We will also change the datatype of the response variable to factor from int"
   ]
  },
  {
   "cell_type": "code",
   "execution_count": 13,
   "metadata": {},
   "outputs": [],
   "source": [
    "il$Liver_Disease = as.factor(il$Liver_Disease)"
   ]
  },
  {
   "cell_type": "markdown",
   "metadata": {},
   "source": [
    "In the next step we want to handle the missing values. We previously noticed that we have 4 missing values in \"Albumin and Globulin Ratio\" column."
   ]
  },
  {
   "cell_type": "markdown",
   "metadata": {},
   "source": [
    "Print missing value rows"
   ]
  },
  {
   "cell_type": "code",
   "execution_count": 14,
   "metadata": {
    "scrolled": true
   },
   "outputs": [
    {
     "data": {
      "text/html": [
       "<table>\n",
       "<thead><tr><th scope=col>Age</th><th scope=col>Gender</th><th scope=col>Total_Bilirubin</th><th scope=col>Direct_Bilirubin</th><th scope=col>Alkaline_Phosphotase</th><th scope=col>Alamine_Aminotransferase</th><th scope=col>Aspartate_Aminotransferase</th><th scope=col>Total_Protiens</th><th scope=col>Albumin</th><th scope=col>Albumin_and_Globulin_Ratio</th><th scope=col>Liver_Disease</th></tr></thead>\n",
       "<tbody>\n",
       "\t<tr><td>45    </td><td>Female</td><td>0.9   </td><td>0.3   </td><td>189   </td><td>23    </td><td>33    </td><td>6.6   </td><td>3.9   </td><td>NA    </td><td>1     </td></tr>\n",
       "\t<tr><td>51    </td><td>Male  </td><td>0.8   </td><td>0.2   </td><td>230   </td><td>24    </td><td>46    </td><td>6.5   </td><td>3.1   </td><td>NA    </td><td>1     </td></tr>\n",
       "\t<tr><td>35    </td><td>Female</td><td>0.6   </td><td>0.2   </td><td>180   </td><td>12    </td><td>15    </td><td>5.2   </td><td>2.7   </td><td>NA    </td><td>0     </td></tr>\n",
       "\t<tr><td>27    </td><td>Male  </td><td>1.3   </td><td>0.6   </td><td>106   </td><td>25    </td><td>54    </td><td>8.5   </td><td>4.8   </td><td>NA    </td><td>0     </td></tr>\n",
       "</tbody>\n",
       "</table>\n"
      ],
      "text/latex": [
       "\\begin{tabular}{r|lllllllllll}\n",
       " Age & Gender & Total\\_Bilirubin & Direct\\_Bilirubin & Alkaline\\_Phosphotase & Alamine\\_Aminotransferase & Aspartate\\_Aminotransferase & Total\\_Protiens & Albumin & Albumin\\_and\\_Globulin\\_Ratio & Liver\\_Disease\\\\\n",
       "\\hline\n",
       "\t 45     & Female & 0.9    & 0.3    & 189    & 23     & 33     & 6.6    & 3.9    & NA     & 1     \\\\\n",
       "\t 51     & Male   & 0.8    & 0.2    & 230    & 24     & 46     & 6.5    & 3.1    & NA     & 1     \\\\\n",
       "\t 35     & Female & 0.6    & 0.2    & 180    & 12     & 15     & 5.2    & 2.7    & NA     & 0     \\\\\n",
       "\t 27     & Male   & 1.3    & 0.6    & 106    & 25     & 54     & 8.5    & 4.8    & NA     & 0     \\\\\n",
       "\\end{tabular}\n"
      ],
      "text/markdown": [
       "\n",
       "Age | Gender | Total_Bilirubin | Direct_Bilirubin | Alkaline_Phosphotase | Alamine_Aminotransferase | Aspartate_Aminotransferase | Total_Protiens | Albumin | Albumin_and_Globulin_Ratio | Liver_Disease | \n",
       "|---|---|---|---|\n",
       "| 45     | Female | 0.9    | 0.3    | 189    | 23     | 33     | 6.6    | 3.9    | NA     | 1      | \n",
       "| 51     | Male   | 0.8    | 0.2    | 230    | 24     | 46     | 6.5    | 3.1    | NA     | 1      | \n",
       "| 35     | Female | 0.6    | 0.2    | 180    | 12     | 15     | 5.2    | 2.7    | NA     | 0      | \n",
       "| 27     | Male   | 1.3    | 0.6    | 106    | 25     | 54     | 8.5    | 4.8    | NA     | 0      | \n",
       "\n",
       "\n"
      ],
      "text/plain": [
       "  Age Gender Total_Bilirubin Direct_Bilirubin Alkaline_Phosphotase\n",
       "1 45  Female 0.9             0.3              189                 \n",
       "2 51  Male   0.8             0.2              230                 \n",
       "3 35  Female 0.6             0.2              180                 \n",
       "4 27  Male   1.3             0.6              106                 \n",
       "  Alamine_Aminotransferase Aspartate_Aminotransferase Total_Protiens Albumin\n",
       "1 23                       33                         6.6            3.9    \n",
       "2 24                       46                         6.5            3.1    \n",
       "3 12                       15                         5.2            2.7    \n",
       "4 25                       54                         8.5            4.8    \n",
       "  Albumin_and_Globulin_Ratio Liver_Disease\n",
       "1 NA                         1            \n",
       "2 NA                         1            \n",
       "3 NA                         0            \n",
       "4 NA                         0            "
      ]
     },
     "metadata": {},
     "output_type": "display_data"
    }
   ],
   "source": [
    "il %>% filter_all(any_vars(is.na(.))) "
   ]
  },
  {
   "cell_type": "markdown",
   "metadata": {},
   "source": [
    "Check percentage of missing values. Performing this step to check if it is simply easy to remove these missing values from the dataset. Since we are dealing with health data, imputing missing values is always tricky as you do not want to make assumptions or impute incorrect values. Removing will be the easiest as it should not affect model performance as much."
   ]
  },
  {
   "cell_type": "code",
   "execution_count": 15,
   "metadata": {},
   "outputs": [
    {
     "data": {
      "text/html": [
       "0.000623733042257914"
      ],
      "text/latex": [
       "0.000623733042257914"
      ],
      "text/markdown": [
       "0.000623733042257914"
      ],
      "text/plain": [
       "[1] 0.000623733"
      ]
     },
     "metadata": {},
     "output_type": "display_data"
    }
   ],
   "source": [
    "sum(is.na(il))/prod(dim(il)) #mean(is.na(il))"
   ]
  },
  {
   "cell_type": "markdown",
   "metadata": {},
   "source": [
    "Very small fraction of missing values. So we can conclude that it is safe to remove these values from the dataset."
   ]
  },
  {
   "cell_type": "code",
   "execution_count": 16,
   "metadata": {},
   "outputs": [],
   "source": [
    "il = na.omit(il)"
   ]
  },
  {
   "cell_type": "code",
   "execution_count": 17,
   "metadata": {},
   "outputs": [
    {
     "name": "stdout",
     "output_type": "stream",
     "text": [
      "'data.frame':\t579 obs. of  11 variables:\n",
      " $ Age                       : int  65 62 62 58 72 46 26 29 17 55 ...\n",
      " $ Gender                    : Factor w/ 2 levels \"Female\",\"Male\": 1 2 2 2 2 2 1 1 2 2 ...\n",
      " $ Total_Bilirubin           : num  0.7 10.9 7.3 1 3.9 1.8 0.9 0.9 0.9 0.7 ...\n",
      " $ Direct_Bilirubin          : num  0.1 5.5 4.1 0.4 2 0.7 0.2 0.3 0.3 0.2 ...\n",
      " $ Alkaline_Phosphotase      : int  187 699 490 182 195 208 154 202 202 290 ...\n",
      " $ Alamine_Aminotransferase  : int  16 64 60 14 27 19 16 14 22 53 ...\n",
      " $ Aspartate_Aminotransferase: int  18 100 68 20 59 14 12 11 19 58 ...\n",
      " $ Total_Protiens            : num  6.8 7.5 7 6.8 7.3 7.6 7 6.7 7.4 6.8 ...\n",
      " $ Albumin                   : num  3.3 3.2 3.3 3.4 2.4 4.4 3.5 3.6 4.1 3.4 ...\n",
      " $ Albumin_and_Globulin_Ratio: num  0.9 0.74 0.89 1 0.4 1.3 1 1.1 1.2 1 ...\n",
      " $ Liver_Disease             : Factor w/ 2 levels \"0\",\"1\": 2 2 2 2 2 2 2 2 1 2 ...\n",
      " - attr(*, \"na.action\")= 'omit' Named int  210 242 254 313\n",
      "  ..- attr(*, \"names\")= chr  \"210\" \"242\" \"254\" \"313\"\n"
     ]
    }
   ],
   "source": [
    "str(il)"
   ]
  },
  {
   "cell_type": "code",
   "execution_count": 18,
   "metadata": {},
   "outputs": [
    {
     "data": {
      "text/html": [
       "<dl class=dl-horizontal>\n",
       "\t<dt>Age</dt>\n",
       "\t\t<dd>0</dd>\n",
       "\t<dt>Gender</dt>\n",
       "\t\t<dd>0</dd>\n",
       "\t<dt>Total_Bilirubin</dt>\n",
       "\t\t<dd>0</dd>\n",
       "\t<dt>Direct_Bilirubin</dt>\n",
       "\t\t<dd>0</dd>\n",
       "\t<dt>Alkaline_Phosphotase</dt>\n",
       "\t\t<dd>0</dd>\n",
       "\t<dt>Alamine_Aminotransferase</dt>\n",
       "\t\t<dd>0</dd>\n",
       "\t<dt>Aspartate_Aminotransferase</dt>\n",
       "\t\t<dd>0</dd>\n",
       "\t<dt>Total_Protiens</dt>\n",
       "\t\t<dd>0</dd>\n",
       "\t<dt>Albumin</dt>\n",
       "\t\t<dd>0</dd>\n",
       "\t<dt>Albumin_and_Globulin_Ratio</dt>\n",
       "\t\t<dd>0</dd>\n",
       "\t<dt>Liver_Disease</dt>\n",
       "\t\t<dd>0</dd>\n",
       "</dl>\n"
      ],
      "text/latex": [
       "\\begin{description*}\n",
       "\\item[Age] 0\n",
       "\\item[Gender] 0\n",
       "\\item[Total\\textbackslash{}\\_Bilirubin] 0\n",
       "\\item[Direct\\textbackslash{}\\_Bilirubin] 0\n",
       "\\item[Alkaline\\textbackslash{}\\_Phosphotase] 0\n",
       "\\item[Alamine\\textbackslash{}\\_Aminotransferase] 0\n",
       "\\item[Aspartate\\textbackslash{}\\_Aminotransferase] 0\n",
       "\\item[Total\\textbackslash{}\\_Protiens] 0\n",
       "\\item[Albumin] 0\n",
       "\\item[Albumin\\textbackslash{}\\_and\\textbackslash{}\\_Globulin\\textbackslash{}\\_Ratio] 0\n",
       "\\item[Liver\\textbackslash{}\\_Disease] 0\n",
       "\\end{description*}\n"
      ],
      "text/markdown": [
       "Age\n",
       ":   0Gender\n",
       ":   0Total_Bilirubin\n",
       ":   0Direct_Bilirubin\n",
       ":   0Alkaline_Phosphotase\n",
       ":   0Alamine_Aminotransferase\n",
       ":   0Aspartate_Aminotransferase\n",
       ":   0Total_Protiens\n",
       ":   0Albumin\n",
       ":   0Albumin_and_Globulin_Ratio\n",
       ":   0Liver_Disease\n",
       ":   0\n",
       "\n"
      ],
      "text/plain": [
       "                       Age                     Gender \n",
       "                         0                          0 \n",
       "           Total_Bilirubin           Direct_Bilirubin \n",
       "                         0                          0 \n",
       "      Alkaline_Phosphotase   Alamine_Aminotransferase \n",
       "                         0                          0 \n",
       "Aspartate_Aminotransferase             Total_Protiens \n",
       "                         0                          0 \n",
       "                   Albumin Albumin_and_Globulin_Ratio \n",
       "                         0                          0 \n",
       "             Liver_Disease \n",
       "                         0 "
      ]
     },
     "metadata": {},
     "output_type": "display_data"
    }
   ],
   "source": [
    "colSums(sapply(il, is.na))"
   ]
  },
  {
   "cell_type": "markdown",
   "metadata": {},
   "source": [
    "We can see that we have sucessfully removed the missing values from the dataset."
   ]
  },
  {
   "cell_type": "markdown",
   "metadata": {},
   "source": [
    "Next, I am curious to see how many people in this dataset are males and how many are females. I am also curious to see how many males and females have liver disease to determine if males have liver disease more than females."
   ]
  },
  {
   "cell_type": "code",
   "execution_count": 19,
   "metadata": {},
   "outputs": [
    {
     "data": {
      "text/plain": [
       "\n",
       "Female   Male \n",
       "   140    439 "
      ]
     },
     "metadata": {},
     "output_type": "display_data"
    }
   ],
   "source": [
    "table(il$Gender)"
   ]
  },
  {
   "cell_type": "code",
   "execution_count": 20,
   "metadata": {
    "scrolled": true
   },
   "outputs": [
    {
     "data": {},
     "metadata": {},
     "output_type": "display_data"
    },
    {
     "data": {
      "image/png": "[encoded data removed]",
      "text/plain": [
       "plot without title"
      ]
     },
     "metadata": {},
     "output_type": "display_data"
    }
   ],
   "source": [
    "ggplot(il, aes(il$Gender))+\n",
    "geom_bar(aes(fill=il$Gender))"
   ]
  },
  {
   "cell_type": "code",
   "execution_count": 21,
   "metadata": {},
   "outputs": [],
   "source": [
    "peopld = filter(il, il$Liver_Disease == 1) # subset of dataframe of people with liver disease"
   ]
  },
  {
   "cell_type": "code",
   "execution_count": 22,
   "metadata": {
    "scrolled": true
   },
   "outputs": [
    {
     "data": {},
     "metadata": {},
     "output_type": "display_data"
    },
    {
     "data": {
      "image/png": "[encoded data removed]",
      "text/plain": [
       "plot without title"
      ]
     },
     "metadata": {},
     "output_type": "display_data"
    }
   ],
   "source": [
    "ggplot(peopld, aes(peopld$Gender))+\n",
    "geom_bar(aes(fill=peopld$Gender))"
   ]
  },
  {
   "cell_type": "code",
   "execution_count": 23,
   "metadata": {},
   "outputs": [],
   "source": [
    "ldm = nrow(filter(il, (il$Gender==\"Male\" & il$Liver_Disease == 1)))"
   ]
  },
  {
   "cell_type": "code",
   "execution_count": 24,
   "metadata": {},
   "outputs": [],
   "source": [
    "ldf = nrow(filter(il, (il$Gender==\"Female\" & il$Liver_Disease == 1)))"
   ]
  },
  {
   "cell_type": "code",
   "execution_count": 25,
   "metadata": {},
   "outputs": [
    {
     "name": "stdout",
     "output_type": "stream",
     "text": [
      "[1] \"Number of males with liver disease are:  323\"\n"
     ]
    }
   ],
   "source": [
    "print(paste(\"Number of males with liver disease are: \", ldm))"
   ]
  },
  {
   "cell_type": "code",
   "execution_count": 26,
   "metadata": {},
   "outputs": [
    {
     "name": "stdout",
     "output_type": "stream",
     "text": [
      "[1] \"Number of females with liver disease are:  91\"\n"
     ]
    }
   ],
   "source": [
    "print(paste(\"Number of females with liver disease are: \", ldf))"
   ]
  },
  {
   "cell_type": "markdown",
   "metadata": {},
   "source": [
    "As we can see out of 439 males 323 (73.57%) are suffering from liver disease and out of 140 females 93 (66.42%) are suffering from liver disease in this dataset. Although not by much but we can see that males suffer more with liver disease than females in this sample population. So Gender is definitely not the primary cause for liver disease."
   ]
  },
  {
   "cell_type": "markdown",
   "metadata": {},
   "source": [
    "### Machine Learning"
   ]
  },
  {
   "cell_type": "markdown",
   "metadata": {},
   "source": [
    "In the next step we will begin with building our machine learning model, to do this we will first split the data in training and testing sets."
   ]
  },
  {
   "cell_type": "markdown",
   "metadata": {},
   "source": [
    "We will first begin with building a logistic regression model which will include all the available features of the dataset. The statistics of this model will provide us with some important information such as the AIC value, which features are most significant to predict the response variable, etc."
   ]
  },
  {
   "cell_type": "markdown",
   "metadata": {},
   "source": [
    "Then we will continue with building logistic regression using hybrid stepwise selection method which will run in both forward and backward directions to evaluate possible combinations of the features."
   ]
  },
  {
   "cell_type": "code",
   "execution_count": 27,
   "metadata": {},
   "outputs": [
    {
     "data": {
      "text/html": [
       "434"
      ],
      "text/latex": [
       "434"
      ],
      "text/markdown": [
       "434"
      ],
      "text/plain": [
       "[1] 434"
      ]
     },
     "metadata": {},
     "output_type": "display_data"
    }
   ],
   "source": [
    "# split data into training and testing sets\n",
    "smp_siz = floor(0.75*nrow(il))  # creates a value for dividing the data into train and test. In this case the value is defined as 75% of the number of rows in the dataset\n",
    "smp_siz  # shows the value of the sample size"
   ]
  },
  {
   "cell_type": "code",
   "execution_count": 28,
   "metadata": {},
   "outputs": [],
   "source": [
    "set.seed(3)   # set seed to ensure you always have same random numbers generated\n",
    "train_ind = sample(seq_len(nrow(il)),size = smp_siz)  # Randomly identifies therows equal to sample size ( defined in previous instruction) from  all the rows of Smarket dataset and stores the row number in train_ind\n",
    "train = il[train_ind,] #creates the training dataset with row numbers stored in train_ind\n",
    "test = il[-train_ind,]  # creates the test dataset excluding the row numbers mentioned in train_ind"
   ]
  },
  {
   "cell_type": "code",
   "execution_count": 29,
   "metadata": {},
   "outputs": [
    {
     "data": {
      "text/html": [
       "<table>\n",
       "<thead><tr><th></th><th scope=col>Age</th><th scope=col>Gender</th><th scope=col>Total_Bilirubin</th><th scope=col>Direct_Bilirubin</th><th scope=col>Alkaline_Phosphotase</th><th scope=col>Alamine_Aminotransferase</th><th scope=col>Aspartate_Aminotransferase</th><th scope=col>Total_Protiens</th><th scope=col>Albumin</th><th scope=col>Albumin_and_Globulin_Ratio</th><th scope=col>Liver_Disease</th></tr></thead>\n",
       "<tbody>\n",
       "\t<tr><th scope=row>98</th><td>39  </td><td>Male</td><td>6.6 </td><td>3.0 </td><td>215 </td><td>190 </td><td>950 </td><td>4.0 </td><td>1.7 </td><td>0.70</td><td>1   </td></tr>\n",
       "\t<tr><th scope=row>471</th><td>66  </td><td>Male</td><td>1.1 </td><td>0.5 </td><td>167 </td><td> 13 </td><td> 56 </td><td>7.1 </td><td>4.1 </td><td>1.36</td><td>1   </td></tr>\n",
       "\t<tr><th scope=row>224</th><td>50  </td><td>Male</td><td>1.1 </td><td>0.3 </td><td>175 </td><td> 20 </td><td> 19 </td><td>7.1 </td><td>4.5 </td><td>1.70</td><td>0   </td></tr>\n",
       "\t<tr><th scope=row>189</th><td>60  </td><td>Male</td><td>1.9 </td><td>0.8 </td><td>614 </td><td> 42 </td><td> 38 </td><td>4.5 </td><td>1.8 </td><td>0.60</td><td>1   </td></tr>\n",
       "\t<tr><th scope=row>351</th><td>37  </td><td>Male</td><td>1.8 </td><td>0.8 </td><td>145 </td><td> 62 </td><td> 58 </td><td>5.7 </td><td>2.9 </td><td>1.00</td><td>1   </td></tr>\n",
       "\t<tr><th scope=row>579</th><td>60  </td><td>Male</td><td>0.5 </td><td>0.1 </td><td>500 </td><td> 20 </td><td> 34 </td><td>5.9 </td><td>1.6 </td><td>0.37</td><td>0   </td></tr>\n",
       "</tbody>\n",
       "</table>\n"
      ],
      "text/latex": [
       "\\begin{tabular}{r|lllllllllll}\n",
       "  & Age & Gender & Total\\_Bilirubin & Direct\\_Bilirubin & Alkaline\\_Phosphotase & Alamine\\_Aminotransferase & Aspartate\\_Aminotransferase & Total\\_Protiens & Albumin & Albumin\\_and\\_Globulin\\_Ratio & Liver\\_Disease\\\\\n",
       "\\hline\n",
       "\t98 & 39   & Male & 6.6  & 3.0  & 215  & 190  & 950  & 4.0  & 1.7  & 0.70 & 1   \\\\\n",
       "\t471 & 66   & Male & 1.1  & 0.5  & 167  &  13  &  56  & 7.1  & 4.1  & 1.36 & 1   \\\\\n",
       "\t224 & 50   & Male & 1.1  & 0.3  & 175  &  20  &  19  & 7.1  & 4.5  & 1.70 & 0   \\\\\n",
       "\t189 & 60   & Male & 1.9  & 0.8  & 614  &  42  &  38  & 4.5  & 1.8  & 0.60 & 1   \\\\\n",
       "\t351 & 37   & Male & 1.8  & 0.8  & 145  &  62  &  58  & 5.7  & 2.9  & 1.00 & 1   \\\\\n",
       "\t579 & 60   & Male & 0.5  & 0.1  & 500  &  20  &  34  & 5.9  & 1.6  & 0.37 & 0   \\\\\n",
       "\\end{tabular}\n"
      ],
      "text/markdown": [
       "\n",
       "| <!--/--> | Age | Gender | Total_Bilirubin | Direct_Bilirubin | Alkaline_Phosphotase | Alamine_Aminotransferase | Aspartate_Aminotransferase | Total_Protiens | Albumin | Albumin_and_Globulin_Ratio | Liver_Disease | \n",
       "|---|---|---|---|---|---|\n",
       "| 98 | 39   | Male | 6.6  | 3.0  | 215  | 190  | 950  | 4.0  | 1.7  | 0.70 | 1    | \n",
       "| 471 | 66   | Male | 1.1  | 0.5  | 167  |  13  |  56  | 7.1  | 4.1  | 1.36 | 1    | \n",
       "| 224 | 50   | Male | 1.1  | 0.3  | 175  |  20  |  19  | 7.1  | 4.5  | 1.70 | 0    | \n",
       "| 189 | 60   | Male | 1.9  | 0.8  | 614  |  42  |  38  | 4.5  | 1.8  | 0.60 | 1    | \n",
       "| 351 | 37   | Male | 1.8  | 0.8  | 145  |  62  |  58  | 5.7  | 2.9  | 1.00 | 1    | \n",
       "| 579 | 60   | Male | 0.5  | 0.1  | 500  |  20  |  34  | 5.9  | 1.6  | 0.37 | 0    | \n",
       "\n",
       "\n"
      ],
      "text/plain": [
       "    Age Gender Total_Bilirubin Direct_Bilirubin Alkaline_Phosphotase\n",
       "98  39  Male   6.6             3.0              215                 \n",
       "471 66  Male   1.1             0.5              167                 \n",
       "224 50  Male   1.1             0.3              175                 \n",
       "189 60  Male   1.9             0.8              614                 \n",
       "351 37  Male   1.8             0.8              145                 \n",
       "579 60  Male   0.5             0.1              500                 \n",
       "    Alamine_Aminotransferase Aspartate_Aminotransferase Total_Protiens Albumin\n",
       "98  190                      950                        4.0            1.7    \n",
       "471  13                       56                        7.1            4.1    \n",
       "224  20                       19                        7.1            4.5    \n",
       "189  42                       38                        4.5            1.8    \n",
       "351  62                       58                        5.7            2.9    \n",
       "579  20                       34                        5.9            1.6    \n",
       "    Albumin_and_Globulin_Ratio Liver_Disease\n",
       "98  0.70                       1            \n",
       "471 1.36                       1            \n",
       "224 1.70                       0            \n",
       "189 0.60                       1            \n",
       "351 1.00                       1            \n",
       "579 0.37                       0            "
      ]
     },
     "metadata": {},
     "output_type": "display_data"
    }
   ],
   "source": [
    "head(train)"
   ]
  },
  {
   "cell_type": "code",
   "execution_count": 30,
   "metadata": {},
   "outputs": [
    {
     "data": {
      "text/html": [
       "<table>\n",
       "<thead><tr><th></th><th scope=col>Age</th><th scope=col>Gender</th><th scope=col>Total_Bilirubin</th><th scope=col>Direct_Bilirubin</th><th scope=col>Alkaline_Phosphotase</th><th scope=col>Alamine_Aminotransferase</th><th scope=col>Aspartate_Aminotransferase</th><th scope=col>Total_Protiens</th><th scope=col>Albumin</th><th scope=col>Albumin_and_Globulin_Ratio</th><th scope=col>Liver_Disease</th></tr></thead>\n",
       "<tbody>\n",
       "\t<tr><th scope=row>1</th><td>65    </td><td>Female</td><td> 0.7  </td><td>0.1   </td><td>187   </td><td>16    </td><td> 18   </td><td>6.8   </td><td>3.3   </td><td>0.90  </td><td>1     </td></tr>\n",
       "\t<tr><th scope=row>2</th><td>62    </td><td>Male  </td><td>10.9  </td><td>5.5   </td><td>699   </td><td>64    </td><td>100   </td><td>7.5   </td><td>3.2   </td><td>0.74  </td><td>1     </td></tr>\n",
       "\t<tr><th scope=row>4</th><td>58    </td><td>Male  </td><td> 1.0  </td><td>0.4   </td><td>182   </td><td>14    </td><td> 20   </td><td>6.8   </td><td>3.4   </td><td>1.00  </td><td>1     </td></tr>\n",
       "\t<tr><th scope=row>7</th><td>26    </td><td>Female</td><td> 0.9  </td><td>0.2   </td><td>154   </td><td>16    </td><td> 12   </td><td>7.0   </td><td>3.5   </td><td>1.00  </td><td>1     </td></tr>\n",
       "\t<tr><th scope=row>16</th><td>25    </td><td>Male  </td><td> 0.6  </td><td>0.1   </td><td>183   </td><td>91    </td><td> 53   </td><td>5.5   </td><td>2.3   </td><td>0.70  </td><td>0     </td></tr>\n",
       "\t<tr><th scope=row>21</th><td>51    </td><td>Male  </td><td> 2.2  </td><td>1.0   </td><td>610   </td><td>17    </td><td> 28   </td><td>7.3   </td><td>2.6   </td><td>0.55  </td><td>1     </td></tr>\n",
       "</tbody>\n",
       "</table>\n"
      ],
      "text/latex": [
       "\\begin{tabular}{r|lllllllllll}\n",
       "  & Age & Gender & Total\\_Bilirubin & Direct\\_Bilirubin & Alkaline\\_Phosphotase & Alamine\\_Aminotransferase & Aspartate\\_Aminotransferase & Total\\_Protiens & Albumin & Albumin\\_and\\_Globulin\\_Ratio & Liver\\_Disease\\\\\n",
       "\\hline\n",
       "\t1 & 65     & Female &  0.7   & 0.1    & 187    & 16     &  18    & 6.8    & 3.3    & 0.90   & 1     \\\\\n",
       "\t2 & 62     & Male   & 10.9   & 5.5    & 699    & 64     & 100    & 7.5    & 3.2    & 0.74   & 1     \\\\\n",
       "\t4 & 58     & Male   &  1.0   & 0.4    & 182    & 14     &  20    & 6.8    & 3.4    & 1.00   & 1     \\\\\n",
       "\t7 & 26     & Female &  0.9   & 0.2    & 154    & 16     &  12    & 7.0    & 3.5    & 1.00   & 1     \\\\\n",
       "\t16 & 25     & Male   &  0.6   & 0.1    & 183    & 91     &  53    & 5.5    & 2.3    & 0.70   & 0     \\\\\n",
       "\t21 & 51     & Male   &  2.2   & 1.0    & 610    & 17     &  28    & 7.3    & 2.6    & 0.55   & 1     \\\\\n",
       "\\end{tabular}\n"
      ],
      "text/markdown": [
       "\n",
       "| <!--/--> | Age | Gender | Total_Bilirubin | Direct_Bilirubin | Alkaline_Phosphotase | Alamine_Aminotransferase | Aspartate_Aminotransferase | Total_Protiens | Albumin | Albumin_and_Globulin_Ratio | Liver_Disease | \n",
       "|---|---|---|---|---|---|\n",
       "| 1 | 65     | Female |  0.7   | 0.1    | 187    | 16     |  18    | 6.8    | 3.3    | 0.90   | 1      | \n",
       "| 2 | 62     | Male   | 10.9   | 5.5    | 699    | 64     | 100    | 7.5    | 3.2    | 0.74   | 1      | \n",
       "| 4 | 58     | Male   |  1.0   | 0.4    | 182    | 14     |  20    | 6.8    | 3.4    | 1.00   | 1      | \n",
       "| 7 | 26     | Female |  0.9   | 0.2    | 154    | 16     |  12    | 7.0    | 3.5    | 1.00   | 1      | \n",
       "| 16 | 25     | Male   |  0.6   | 0.1    | 183    | 91     |  53    | 5.5    | 2.3    | 0.70   | 0      | \n",
       "| 21 | 51     | Male   |  2.2   | 1.0    | 610    | 17     |  28    | 7.3    | 2.6    | 0.55   | 1      | \n",
       "\n",
       "\n"
      ],
      "text/plain": [
       "   Age Gender Total_Bilirubin Direct_Bilirubin Alkaline_Phosphotase\n",
       "1  65  Female  0.7            0.1              187                 \n",
       "2  62  Male   10.9            5.5              699                 \n",
       "4  58  Male    1.0            0.4              182                 \n",
       "7  26  Female  0.9            0.2              154                 \n",
       "16 25  Male    0.6            0.1              183                 \n",
       "21 51  Male    2.2            1.0              610                 \n",
       "   Alamine_Aminotransferase Aspartate_Aminotransferase Total_Protiens Albumin\n",
       "1  16                        18                        6.8            3.3    \n",
       "2  64                       100                        7.5            3.2    \n",
       "4  14                        20                        6.8            3.4    \n",
       "7  16                        12                        7.0            3.5    \n",
       "16 91                        53                        5.5            2.3    \n",
       "21 17                        28                        7.3            2.6    \n",
       "   Albumin_and_Globulin_Ratio Liver_Disease\n",
       "1  0.90                       1            \n",
       "2  0.74                       1            \n",
       "4  1.00                       1            \n",
       "7  1.00                       1            \n",
       "16 0.70                       0            \n",
       "21 0.55                       1            "
      ]
     },
     "metadata": {},
     "output_type": "display_data"
    }
   ],
   "source": [
    "head(test)"
   ]
  },
  {
   "cell_type": "code",
   "execution_count": 31,
   "metadata": {},
   "outputs": [
    {
     "name": "stderr",
     "output_type": "stream",
     "text": [
      "Warning message:\n",
      "“glm.fit: fitted probabilities numerically 0 or 1 occurred”"
     ]
    }
   ],
   "source": [
    "glm.fit = glm(Liver_Disease ~ . , data = train, family = binomial)"
   ]
  },
  {
   "cell_type": "code",
   "execution_count": 32,
   "metadata": {},
   "outputs": [
    {
     "data": {
      "text/plain": [
       "\n",
       "Call:\n",
       "glm(formula = Liver_Disease ~ ., family = binomial, data = train)\n",
       "\n",
       "Deviance Residuals: \n",
       "    Min       1Q   Median       3Q      Max  \n",
       "-3.2120  -1.0208   0.3000   0.8736   1.5093  \n",
       "\n",
       "Coefficients:\n",
       "                             Estimate Std. Error z value Pr(>|z|)   \n",
       "(Intercept)                -3.1182472  1.4912438  -2.091  0.03652 * \n",
       "Age                         0.0148237  0.0074514   1.989  0.04666 * \n",
       "GenderMale                  0.0220650  0.2752200   0.080  0.93610   \n",
       "Total_Bilirubin             0.0024016  0.0702782   0.034  0.97274   \n",
       "Direct_Bilirubin            0.4544035  0.2672373   1.700  0.08906 . \n",
       "Alkaline_Phosphotase        0.0011708  0.0009269   1.263  0.20652   \n",
       "Alamine_Aminotransferase    0.0225983  0.0078399   2.882  0.00395 **\n",
       "Aspartate_Aminotransferase  0.0016287  0.0043123   0.378  0.70567   \n",
       "Total_Protiens              0.8555067  0.4140979   2.066  0.03883 * \n",
       "Albumin                    -1.6074039  0.7998331  -2.010  0.04447 * \n",
       "Albumin_and_Globulin_Ratio  1.3630479  1.1952477   1.140  0.25412   \n",
       "---\n",
       "Signif. codes:  0 ‘***’ 0.001 ‘**’ 0.01 ‘*’ 0.05 ‘.’ 0.1 ‘ ’ 1\n",
       "\n",
       "(Dispersion parameter for binomial family taken to be 1)\n",
       "\n",
       "    Null deviance: 517.45  on 433  degrees of freedom\n",
       "Residual deviance: 408.38  on 423  degrees of freedom\n",
       "AIC: 430.38\n",
       "\n",
       "Number of Fisher Scoring iterations: 8\n"
      ]
     },
     "metadata": {},
     "output_type": "display_data"
    }
   ],
   "source": [
    "summary(glm.fit)"
   ]
  },
  {
   "cell_type": "markdown",
   "metadata": {},
   "source": [
    "As we can see from the above summary statistics, the AIC value of the full default logistic model is 430.38 with significant features such as Age, Direct_Bilirubin, Alamine_Aminotransferase, Total_Protiens and Albumin. Let us see if we can improve the model with stepwise selection method."
   ]
  },
  {
   "cell_type": "code",
   "execution_count": 34,
   "metadata": {
    "scrolled": false
   },
   "outputs": [
    {
     "name": "stdout",
     "output_type": "stream",
     "text": [
      "Start:  AIC=430.38\n",
      "Liver_Disease ~ Age + Gender + Total_Bilirubin + Direct_Bilirubin + \n",
      "    Alkaline_Phosphotase + Alamine_Aminotransferase + Aspartate_Aminotransferase + \n",
      "    Total_Protiens + Albumin + Albumin_and_Globulin_Ratio\n",
      "\n"
     ]
    },
    {
     "name": "stderr",
     "output_type": "stream",
     "text": [
      "Warning message:\n",
      "“glm.fit: fitted probabilities numerically 0 or 1 occurred”Warning message:\n",
      "“glm.fit: fitted probabilities numerically 0 or 1 occurred”Warning message:\n",
      "“glm.fit: fitted probabilities numerically 0 or 1 occurred”Warning message:\n",
      "“glm.fit: fitted probabilities numerically 0 or 1 occurred”Warning message:\n",
      "“glm.fit: fitted probabilities numerically 0 or 1 occurred”Warning message:\n",
      "“glm.fit: fitted probabilities numerically 0 or 1 occurred”Warning message:\n",
      "“glm.fit: fitted probabilities numerically 0 or 1 occurred”Warning message:\n",
      "“glm.fit: fitted probabilities numerically 0 or 1 occurred”Warning message:\n",
      "“glm.fit: fitted probabilities numerically 0 or 1 occurred”Warning message:\n",
      "“glm.fit: fitted probabilities numerically 0 or 1 occurred”"
     ]
    },
    {
     "name": "stdout",
     "output_type": "stream",
     "text": [
      "                             Df Deviance    AIC\n",
      "- Total_Bilirubin             1   408.38 428.38\n",
      "- Gender                      1   408.38 428.38\n",
      "- Aspartate_Aminotransferase  1   408.53 428.53\n",
      "- Albumin_and_Globulin_Ratio  1   409.78 429.78\n",
      "- Direct_Bilirubin            1   409.90 429.90\n",
      "<none>                            408.38 430.38\n",
      "- Alkaline_Phosphotase        1   410.38 430.38\n",
      "- Age                         1   412.38 432.38\n",
      "- Albumin                     1   412.84 432.84\n",
      "- Total_Protiens              1   412.96 432.96\n",
      "- Alamine_Aminotransferase    1   420.20 440.20\n"
     ]
    },
    {
     "name": "stderr",
     "output_type": "stream",
     "text": [
      "Warning message:\n",
      "“glm.fit: fitted probabilities numerically 0 or 1 occurred”"
     ]
    },
    {
     "name": "stdout",
     "output_type": "stream",
     "text": [
      "\n",
      "Step:  AIC=428.38\n",
      "Liver_Disease ~ Age + Gender + Direct_Bilirubin + Alkaline_Phosphotase + \n",
      "    Alamine_Aminotransferase + Aspartate_Aminotransferase + Total_Protiens + \n",
      "    Albumin + Albumin_and_Globulin_Ratio\n",
      "\n"
     ]
    },
    {
     "name": "stderr",
     "output_type": "stream",
     "text": [
      "Warning message:\n",
      "“glm.fit: fitted probabilities numerically 0 or 1 occurred”Warning message:\n",
      "“glm.fit: fitted probabilities numerically 0 or 1 occurred”Warning message:\n",
      "“glm.fit: fitted probabilities numerically 0 or 1 occurred”Warning message:\n",
      "“glm.fit: fitted probabilities numerically 0 or 1 occurred”Warning message:\n",
      "“glm.fit: fitted probabilities numerically 0 or 1 occurred”Warning message:\n",
      "“glm.fit: fitted probabilities numerically 0 or 1 occurred”Warning message:\n",
      "“glm.fit: fitted probabilities numerically 0 or 1 occurred”Warning message:\n",
      "“glm.fit: fitted probabilities numerically 0 or 1 occurred”Warning message:\n",
      "“glm.fit: fitted probabilities numerically 0 or 1 occurred”Warning message:\n",
      "“glm.fit: fitted probabilities numerically 0 or 1 occurred”Warning message:\n",
      "“glm.fit: fitted probabilities numerically 0 or 1 occurred”"
     ]
    },
    {
     "name": "stdout",
     "output_type": "stream",
     "text": [
      "                             Df Deviance    AIC\n",
      "- Gender                      1   408.38 426.38\n",
      "- Aspartate_Aminotransferase  1   408.53 426.53\n",
      "- Albumin_and_Globulin_Ratio  1   409.78 427.78\n",
      "<none>                            408.38 428.38\n",
      "- Alkaline_Phosphotase        1   410.38 428.38\n",
      "+ Total_Bilirubin             1   408.38 430.38\n",
      "- Age                         1   412.39 430.39\n",
      "- Albumin                     1   412.84 430.84\n",
      "- Total_Protiens              1   412.96 430.96\n",
      "- Direct_Bilirubin            1   416.97 434.97\n",
      "- Alamine_Aminotransferase    1   420.20 438.20\n"
     ]
    },
    {
     "name": "stderr",
     "output_type": "stream",
     "text": [
      "Warning message:\n",
      "“glm.fit: fitted probabilities numerically 0 or 1 occurred”"
     ]
    },
    {
     "name": "stdout",
     "output_type": "stream",
     "text": [
      "\n",
      "Step:  AIC=426.38\n",
      "Liver_Disease ~ Age + Direct_Bilirubin + Alkaline_Phosphotase + \n",
      "    Alamine_Aminotransferase + Aspartate_Aminotransferase + Total_Protiens + \n",
      "    Albumin + Albumin_and_Globulin_Ratio\n",
      "\n"
     ]
    },
    {
     "name": "stderr",
     "output_type": "stream",
     "text": [
      "Warning message:\n",
      "“glm.fit: fitted probabilities numerically 0 or 1 occurred”Warning message:\n",
      "“glm.fit: fitted probabilities numerically 0 or 1 occurred”Warning message:\n",
      "“glm.fit: fitted probabilities numerically 0 or 1 occurred”Warning message:\n",
      "“glm.fit: fitted probabilities numerically 0 or 1 occurred”Warning message:\n",
      "“glm.fit: fitted probabilities numerically 0 or 1 occurred”Warning message:\n",
      "“glm.fit: fitted probabilities numerically 0 or 1 occurred”Warning message:\n",
      "“glm.fit: fitted probabilities numerically 0 or 1 occurred”Warning message:\n",
      "“glm.fit: fitted probabilities numerically 0 or 1 occurred”Warning message:\n",
      "“glm.fit: fitted probabilities numerically 0 or 1 occurred”Warning message:\n",
      "“glm.fit: fitted probabilities numerically 0 or 1 occurred”Warning message:\n",
      "“glm.fit: fitted probabilities numerically 0 or 1 occurred”"
     ]
    },
    {
     "name": "stdout",
     "output_type": "stream",
     "text": [
      "                             Df Deviance    AIC\n",
      "- Aspartate_Aminotransferase  1   408.53 424.53\n",
      "- Albumin_and_Globulin_Ratio  1   409.80 425.80\n",
      "<none>                            408.38 426.38\n",
      "- Alkaline_Phosphotase        1   410.39 426.39\n",
      "+ Gender                      1   408.38 428.38\n",
      "+ Total_Bilirubin             1   408.38 428.38\n",
      "- Age                         1   412.41 428.41\n",
      "- Albumin                     1   412.86 428.86\n",
      "- Total_Protiens              1   412.97 428.97\n",
      "- Direct_Bilirubin            1   416.99 432.99\n",
      "- Alamine_Aminotransferase    1   420.31 436.31\n"
     ]
    },
    {
     "name": "stderr",
     "output_type": "stream",
     "text": [
      "Warning message:\n",
      "“glm.fit: fitted probabilities numerically 0 or 1 occurred”"
     ]
    },
    {
     "name": "stdout",
     "output_type": "stream",
     "text": [
      "\n",
      "Step:  AIC=424.53\n",
      "Liver_Disease ~ Age + Direct_Bilirubin + Alkaline_Phosphotase + \n",
      "    Alamine_Aminotransferase + Total_Protiens + Albumin + Albumin_and_Globulin_Ratio\n",
      "\n"
     ]
    },
    {
     "name": "stderr",
     "output_type": "stream",
     "text": [
      "Warning message:\n",
      "“glm.fit: fitted probabilities numerically 0 or 1 occurred”Warning message:\n",
      "“glm.fit: fitted probabilities numerically 0 or 1 occurred”Warning message:\n",
      "“glm.fit: fitted probabilities numerically 0 or 1 occurred”Warning message:\n",
      "“glm.fit: fitted probabilities numerically 0 or 1 occurred”Warning message:\n",
      "“glm.fit: fitted probabilities numerically 0 or 1 occurred”Warning message:\n",
      "“glm.fit: fitted probabilities numerically 0 or 1 occurred”Warning message:\n",
      "“glm.fit: fitted probabilities numerically 0 or 1 occurred”Warning message:\n",
      "“glm.fit: fitted probabilities numerically 0 or 1 occurred”Warning message:\n",
      "“glm.fit: fitted probabilities numerically 0 or 1 occurred”Warning message:\n",
      "“glm.fit: fitted probabilities numerically 0 or 1 occurred”"
     ]
    },
    {
     "name": "stdout",
     "output_type": "stream",
     "text": [
      "                             Df Deviance    AIC\n",
      "- Albumin_and_Globulin_Ratio  1   410.16 424.16\n",
      "<none>                            408.53 424.53\n",
      "- Alkaline_Phosphotase        1   410.57 424.57\n",
      "+ Aspartate_Aminotransferase  1   408.38 426.38\n",
      "- Age                         1   412.50 426.50\n",
      "+ Gender                      1   408.53 426.53\n",
      "+ Total_Bilirubin             1   408.53 426.53\n",
      "- Total_Protiens              1   413.42 427.42\n",
      "- Albumin                     1   413.45 427.45\n",
      "- Direct_Bilirubin            1   418.17 432.17\n",
      "- Alamine_Aminotransferase    1   442.72 456.72\n"
     ]
    },
    {
     "name": "stderr",
     "output_type": "stream",
     "text": [
      "Warning message:\n",
      "“glm.fit: fitted probabilities numerically 0 or 1 occurred”"
     ]
    },
    {
     "name": "stdout",
     "output_type": "stream",
     "text": [
      "\n",
      "Step:  AIC=424.16\n",
      "Liver_Disease ~ Age + Direct_Bilirubin + Alkaline_Phosphotase + \n",
      "    Alamine_Aminotransferase + Total_Protiens + Albumin\n",
      "\n"
     ]
    },
    {
     "name": "stderr",
     "output_type": "stream",
     "text": [
      "Warning message:\n",
      "“glm.fit: fitted probabilities numerically 0 or 1 occurred”Warning message:\n",
      "“glm.fit: fitted probabilities numerically 0 or 1 occurred”Warning message:\n",
      "“glm.fit: fitted probabilities numerically 0 or 1 occurred”Warning message:\n",
      "“glm.fit: fitted probabilities numerically 0 or 1 occurred”Warning message:\n",
      "“glm.fit: fitted probabilities numerically 0 or 1 occurred”Warning message:\n",
      "“glm.fit: fitted probabilities numerically 0 or 1 occurred”Warning message:\n",
      "“glm.fit: fitted probabilities numerically 0 or 1 occurred”Warning message:\n",
      "“glm.fit: fitted probabilities numerically 0 or 1 occurred”Warning message:\n",
      "“glm.fit: fitted probabilities numerically 0 or 1 occurred”Warning message:\n",
      "“glm.fit: fitted probabilities numerically 0 or 1 occurred”"
     ]
    },
    {
     "name": "stdout",
     "output_type": "stream",
     "text": [
      "                             Df Deviance    AIC\n",
      "- Alkaline_Phosphotase        1   411.79 423.79\n",
      "<none>                            410.16 424.16\n",
      "+ Albumin_and_Globulin_Ratio  1   408.53 424.53\n",
      "+ Aspartate_Aminotransferase  1   409.80 425.80\n",
      "+ Gender                      1   410.13 426.13\n",
      "+ Total_Bilirubin             1   410.16 426.16\n",
      "- Age                         1   414.19 426.19\n",
      "- Total_Protiens              1   414.65 426.65\n",
      "- Albumin                     1   417.02 429.02\n",
      "- Direct_Bilirubin            1   422.29 434.29\n",
      "- Alamine_Aminotransferase    1   443.44 455.44\n"
     ]
    },
    {
     "name": "stderr",
     "output_type": "stream",
     "text": [
      "Warning message:\n",
      "“glm.fit: fitted probabilities numerically 0 or 1 occurred”"
     ]
    },
    {
     "name": "stdout",
     "output_type": "stream",
     "text": [
      "\n",
      "Step:  AIC=423.79\n",
      "Liver_Disease ~ Age + Direct_Bilirubin + Alamine_Aminotransferase + \n",
      "    Total_Protiens + Albumin\n",
      "\n"
     ]
    },
    {
     "name": "stderr",
     "output_type": "stream",
     "text": [
      "Warning message:\n",
      "“glm.fit: fitted probabilities numerically 0 or 1 occurred”Warning message:\n",
      "“glm.fit: fitted probabilities numerically 0 or 1 occurred”Warning message:\n",
      "“glm.fit: fitted probabilities numerically 0 or 1 occurred”Warning message:\n",
      "“glm.fit: fitted probabilities numerically 0 or 1 occurred”Warning message:\n",
      "“glm.fit: fitted probabilities numerically 0 or 1 occurred”Warning message:\n",
      "“glm.fit: fitted probabilities numerically 0 or 1 occurred”Warning message:\n",
      "“glm.fit: fitted probabilities numerically 0 or 1 occurred”Warning message:\n",
      "“glm.fit: fitted probabilities numerically 0 or 1 occurred”Warning message:\n",
      "“glm.fit: fitted probabilities numerically 0 or 1 occurred”Warning message:\n",
      "“glm.fit: fitted probabilities numerically 0 or 1 occurred”"
     ]
    },
    {
     "name": "stdout",
     "output_type": "stream",
     "text": [
      "                             Df Deviance    AIC\n",
      "<none>                            411.79 423.79\n",
      "+ Alkaline_Phosphotase        1   410.16 424.16\n",
      "+ Albumin_and_Globulin_Ratio  1   410.57 424.57\n",
      "+ Aspartate_Aminotransferase  1   411.41 425.41\n",
      "- Age                         1   415.62 425.62\n",
      "+ Gender                      1   411.77 425.77\n",
      "+ Total_Bilirubin             1   411.79 425.79\n",
      "- Total_Protiens              1   417.20 427.20\n",
      "- Albumin                     1   420.03 430.03\n",
      "- Direct_Bilirubin            1   425.64 435.64\n",
      "- Alamine_Aminotransferase    1   451.31 461.31\n"
     ]
    }
   ],
   "source": [
    "step_il <- step(glm.fit, direction=\"both\")"
   ]
  },
  {
   "cell_type": "code",
   "execution_count": 35,
   "metadata": {},
   "outputs": [
    {
     "data": {
      "text/plain": [
       "\n",
       "Call:\n",
       "glm(formula = Liver_Disease ~ Age + Direct_Bilirubin + Alamine_Aminotransferase + \n",
       "    Total_Protiens + Albumin, family = binomial, data = train)\n",
       "\n",
       "Deviance Residuals: \n",
       "    Min       1Q   Median       3Q      Max  \n",
       "-2.8654  -0.9949   0.3091   0.8797   1.5893  \n",
       "\n",
       "Coefficients:\n",
       "                          Estimate Std. Error z value Pr(>|z|)    \n",
       "(Intercept)              -1.620277   0.955489  -1.696  0.08993 .  \n",
       "Age                       0.014426   0.007426   1.943  0.05206 .  \n",
       "Direct_Bilirubin          0.537174   0.217905   2.465  0.01369 *  \n",
       "Alamine_Aminotransferase  0.025711   0.005981   4.299 1.72e-05 ***\n",
       "Total_Protiens            0.481771   0.209592   2.299  0.02153 *  \n",
       "Albumin                  -0.828998   0.294110  -2.819  0.00482 ** \n",
       "---\n",
       "Signif. codes:  0 ‘***’ 0.001 ‘**’ 0.01 ‘*’ 0.05 ‘.’ 0.1 ‘ ’ 1\n",
       "\n",
       "(Dispersion parameter for binomial family taken to be 1)\n",
       "\n",
       "    Null deviance: 517.45  on 433  degrees of freedom\n",
       "Residual deviance: 411.79  on 428  degrees of freedom\n",
       "AIC: 423.79\n",
       "\n",
       "Number of Fisher Scoring iterations: 8\n"
      ]
     },
     "metadata": {},
     "output_type": "display_data"
    }
   ],
   "source": [
    "summary(step_il)"
   ]
  },
  {
   "cell_type": "markdown",
   "metadata": {},
   "source": [
    "We now have our final model as per the stepwise regression. We can see that the value of AIC has dropped which means that this model is better than the full default logistic regression model. This model includes 5 features which will contribute towards predicting the response variable \"Liver Disease\"."
   ]
  },
  {
   "cell_type": "markdown",
   "metadata": {},
   "source": [
    "Lets use this model to make predictions on the test dataset now."
   ]
  },
  {
   "cell_type": "code",
   "execution_count": 36,
   "metadata": {},
   "outputs": [],
   "source": [
    "predict_il <- predict(step_il, type = \"response\", newdata = test)"
   ]
  },
  {
   "cell_type": "code",
   "execution_count": 37,
   "metadata": {},
   "outputs": [],
   "source": [
    "predicted <- ifelse(predict_il>0.51,1,0) # set cutoff limit"
   ]
  },
  {
   "cell_type": "code",
   "execution_count": 38,
   "metadata": {
    "scrolled": false
   },
   "outputs": [
    {
     "data": {
      "text/plain": [
       "Confusion Matrix and Statistics\n",
       "\n",
       "          Reference\n",
       "Prediction  0  1\n",
       "         0 12 12\n",
       "         1 30 91\n",
       "                                          \n",
       "               Accuracy : 0.7103          \n",
       "                 95% CI : (0.6293, 0.7826)\n",
       "    No Information Rate : 0.7103          \n",
       "    P-Value [Acc > NIR] : 0.541514        \n",
       "                                          \n",
       "                  Kappa : 0.1938          \n",
       " Mcnemar's Test P-Value : 0.008712        \n",
       "                                          \n",
       "            Sensitivity : 0.28571         \n",
       "            Specificity : 0.88350         \n",
       "         Pos Pred Value : 0.50000         \n",
       "         Neg Pred Value : 0.75207         \n",
       "             Prevalence : 0.28966         \n",
       "         Detection Rate : 0.08276         \n",
       "   Detection Prevalence : 0.16552         \n",
       "      Balanced Accuracy : 0.58460         \n",
       "                                          \n",
       "       'Positive' Class : 0               \n",
       "                                          "
      ]
     },
     "metadata": {},
     "output_type": "display_data"
    }
   ],
   "source": [
    "confusionMatrix(as.factor(predicted), as.factor(test$Liver_Disease))"
   ]
  },
  {
   "cell_type": "markdown",
   "metadata": {},
   "source": [
    "From the confusion matrix statistics we can see that the accuracy of the model is 71% and with low sensitivity and high specificity we can conclude that our model did a good job with predicting patients who did not have liver disease."
   ]
  },
  {
   "cell_type": "code",
   "execution_count": null,
   "metadata": {},
   "outputs": [],
   "source": []
  }
 ],
 "metadata": {
  "kernelspec": {
   "display_name": "R",
   "language": "R",
   "name": "ir"
  },
  "language_info": {
   "codemirror_mode": "r",
   "file_extension": ".r",
   "mimetype": "text/x-r-source",
   "name": "R",
   "pygments_lexer": "r",
   "version": "3.5.1"
  }
 },
 "nbformat": 4,
 "nbformat_minor": 2
}
